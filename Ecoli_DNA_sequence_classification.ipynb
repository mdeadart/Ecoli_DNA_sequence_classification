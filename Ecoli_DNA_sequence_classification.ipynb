{
  "nbformat": 4,
  "nbformat_minor": 0,
  "metadata": {
    "colab": {
      "name": "Ecoli_DNA_sequence_classification.ipynb",
      "provenance": [],
      "collapsed_sections": []
    },
    "kernelspec": {
      "name": "python3",
      "display_name": "Python 3"
    }
  },
  "cells": [
    {
      "cell_type": "code",
      "metadata": {
        "id": "EdTCcPvsulnN"
      },
      "source": [
        "import numpy as np\n",
        "import pandas as pd\n",
        "import sklearn\n",
        "\n",
        "from sklearn import svm\n",
        "from sklearn.ensemble import RandomForestClassifier\n",
        "import tensorflow as tf\n",
        "import keras\n",
        "\n",
        "from sklearn.model_selection import train_test_split\n",
        "from sklearn.metrics import classification_report\n",
        "from sklearn.model_selection import KFold, cross_val_score"
      ],
      "execution_count": 1,
      "outputs": []
    },
    {
      "cell_type": "markdown",
      "metadata": {
        "id": "EMxgh24Q8PaH"
      },
      "source": [
        "# Parameters"
      ]
    },
    {
      "cell_type": "code",
      "metadata": {
        "id": "VLCoCU1e8RpO"
      },
      "source": [
        "train_split_size = 0.8"
      ],
      "execution_count": 2,
      "outputs": []
    },
    {
      "cell_type": "markdown",
      "metadata": {
        "id": "E58jhfUo45iy"
      },
      "source": [
        "# Data\n",
        "\n",
        "* Download Data\n",
        "* Pre-process data for feeding into ML models\n",
        "\n"
      ]
    },
    {
      "cell_type": "code",
      "metadata": {
        "id": "4_OloGFwu99W"
      },
      "source": [
        "######################################################################################\n",
        "##### DATA fetching #####\n",
        "######################################################################################\n",
        "\n",
        "DNA_data_link = 'https://archive.ics.uci.edu/ml/machine-learning-databases/molecular-biology/promoter-gene-sequences/promoters.data'\n",
        "ecoli_dna_data_original = pd.read_csv(DNA_data_link)\n",
        "ecoli_dna_data_original.columns = ['Class', 'id', 'Sequence']"
      ],
      "execution_count": 3,
      "outputs": []
    },
    {
      "cell_type": "code",
      "metadata": {
        "id": "FEV_akd6vaJA"
      },
      "source": [
        "######################################################################################\n",
        "##### Preparing data for ML models by breaking sequence and using dummy variables\n",
        "######################################################################################\n",
        "\n",
        "ecoli_dna_data_original[\"Sequence_edited\"] = ecoli_dna_data_original[\"Sequence\"].replace({\"\\t\":\"\"}, regex = True)\n",
        "\n",
        "ecoli_dna_data_broken_sequence_class = pd.DataFrame()\n",
        "for char in range(np.unique(ecoli_dna_data_original[\"Sequence_edited\"].apply(len))[0]):\n",
        "  ecoli_dna_data_broken_sequence_class[\"Sequence_\"+str(char)] = ecoli_dna_data_original['Sequence_edited'].astype(str).str[char]\n",
        "ecoli_dna_data_broken_sequence_class[\"Class\"] = ecoli_dna_data_original[\"Class\"]\n",
        "\n",
        "ecoli_dna_data_broken_sequence_class_dummified = pd.get_dummies(ecoli_dna_data_broken_sequence_class)"
      ],
      "execution_count": 4,
      "outputs": []
    },
    {
      "cell_type": "code",
      "metadata": {
        "id": "DpyQ0RyJ6ZqA",
        "outputId": "dbf0d1ee-5843-499c-f4fd-57ae51517981",
        "colab": {
          "base_uri": "https://localhost:8080/",
          "height": 85
        }
      },
      "source": [
        "######################################################################################\n",
        "##### Splitting the data into Test/Train sets\n",
        "######################################################################################\n",
        "\n",
        "x_train, x_test, y_train, y_test = train_test_split(ecoli_dna_data_broken_sequence_class_dummified.iloc[:, 0:ecoli_dna_data_broken_sequence_class_dummified.shape[1]-2], \n",
        "                                                    ecoli_dna_data_broken_sequence_class_dummified.iloc[:, ecoli_dna_data_broken_sequence_class_dummified.shape[1]-2:ecoli_dna_data_broken_sequence_class_dummified.shape[1]], \n",
        "                                                    train_size = train_split_size)\n",
        "\n",
        "print(x_train.shape)\n",
        "print(y_train.shape)\n",
        "print(x_test.shape)\n",
        "print(y_test.shape)"
      ],
      "execution_count": 5,
      "outputs": [
        {
          "output_type": "stream",
          "text": [
            "(84, 228)\n",
            "(84, 2)\n",
            "(21, 228)\n",
            "(21, 2)\n"
          ],
          "name": "stdout"
        }
      ]
    },
    {
      "cell_type": "markdown",
      "metadata": {
        "id": "gp_yLmnh5oYc"
      },
      "source": [
        "# Machine Learning Models"
      ]
    },
    {
      "cell_type": "markdown",
      "metadata": {
        "id": "yXjdb1CN534F"
      },
      "source": [
        "### Support Vector Machines"
      ]
    },
    {
      "cell_type": "code",
      "metadata": {
        "id": "ouurl1iJ3q1M",
        "outputId": "c864590c-af95-449b-c2fd-98c2c0a77d48",
        "colab": {
          "base_uri": "https://localhost:8080/",
          "height": 51
        }
      },
      "source": [
        "######################################################################################\n",
        "##### Check for generalization of model with 5-fold cross-validation\n",
        "######################################################################################\n",
        "\n",
        "cv_results = cross_val_score(svm.LinearSVC(random_state=1), x_train, y_train.iloc[:,0], cv = KFold(n_splits = 5), scoring = 'accuracy')\n",
        "print(np.mean(cv_results))\n",
        "cv_results\n",
        "\n",
        "## After multiple different combinations of parameters, found that there was no significanct improvement in training accuracy"
      ],
      "execution_count": 6,
      "outputs": [
        {
          "output_type": "stream",
          "text": [
            "0.9286764705882353\n"
          ],
          "name": "stdout"
        },
        {
          "output_type": "execute_result",
          "data": {
            "text/plain": [
              "array([1.        , 0.88235294, 0.88235294, 0.94117647, 0.9375    ])"
            ]
          },
          "metadata": {
            "tags": []
          },
          "execution_count": 6
        }
      ]
    },
    {
      "cell_type": "code",
      "metadata": {
        "id": "nbniDsifLECz",
        "outputId": "63743a4c-0fd0-4e3b-b0e9-dfb9191ae034",
        "colab": {
          "base_uri": "https://localhost:8080/",
          "height": 85
        }
      },
      "source": [
        "######################################################################################\n",
        "##### Training SVM model\n",
        "######################################################################################\n",
        "\n",
        "svm_model = svm.LinearSVC(random_state=1)\n",
        "svm_model.fit(x_train, y_train.iloc[:,0])"
      ],
      "execution_count": 7,
      "outputs": [
        {
          "output_type": "execute_result",
          "data": {
            "text/plain": [
              "LinearSVC(C=1.0, class_weight=None, dual=True, fit_intercept=True,\n",
              "          intercept_scaling=1, loss='squared_hinge', max_iter=1000,\n",
              "          multi_class='ovr', penalty='l2', random_state=1, tol=0.0001,\n",
              "          verbose=0)"
            ]
          },
          "metadata": {
            "tags": []
          },
          "execution_count": 7
        }
      ]
    },
    {
      "cell_type": "code",
      "metadata": {
        "id": "ncCHucTvbkwg"
      },
      "source": [
        "######################################################################################\n",
        "##### Prediction performance evaluation for SVM model - TRAIN data\n",
        "######################################################################################\n",
        "\n",
        "svm_train_prediction =  svm_model.predict(x_train)\n",
        "svm_train_pred_eval = pd.DataFrame(classification_report(y_train.iloc[:,0], svm_train_prediction, output_dict=True)).transpose()\n",
        "svm_train_pred_eval[\"Model\"] = \"Linear Support Vector Machine\"\n",
        "svm_train_pred_eval[\"Data\"] = \"Train\"\n",
        "svm_train_pred_eval.index.name = \"Details\"\n",
        "svm_train_pred_eval.reset_index(inplace=True)"
      ],
      "execution_count": 8,
      "outputs": []
    },
    {
      "cell_type": "code",
      "metadata": {
        "id": "hxM4vrHScWkJ"
      },
      "source": [
        "######################################################################################\n",
        "##### Prediction performance evaluation for SVM model - TEST data\n",
        "######################################################################################\n",
        "\n",
        "svm_test_prediction =  svm_model.predict(x_test)\n",
        "svm_test_pred_eval = pd.DataFrame(classification_report(y_test.iloc[:,0], svm_test_prediction, output_dict=True)).transpose()\n",
        "svm_test_pred_eval[\"Model\"] = \"Linear Support Vector Machine\"\n",
        "svm_test_pred_eval[\"Data\"] = \"Test\"\n",
        "svm_test_pred_eval.index.name = \"Details\"\n",
        "svm_test_pred_eval.reset_index(inplace=True)"
      ],
      "execution_count": 9,
      "outputs": []
    },
    {
      "cell_type": "markdown",
      "metadata": {
        "id": "Dab6CZo-5yQX"
      },
      "source": [
        "### Random Forest Classifier"
      ]
    },
    {
      "cell_type": "code",
      "metadata": {
        "id": "OWc36E3J5z6H",
        "outputId": "358167fe-3c23-4ba4-a445-afbe0bb7036a",
        "colab": {
          "base_uri": "https://localhost:8080/",
          "height": 51
        }
      },
      "source": [
        "######################################################################################\n",
        "##### Check for generalization of model with 5-fold cross-validation\n",
        "######################################################################################\n",
        "\n",
        "cv_results = cross_val_score(RandomForestClassifier(random_state=1), x_train, y_train.iloc[:,0], cv = KFold(n_splits = 5), scoring = 'accuracy')\n",
        "print(np.mean(cv_results))\n",
        "cv_results\n",
        "\n",
        "## After multiple different combinations of parameters, found that there was no significanct improvement in training accuracy"
      ],
      "execution_count": 10,
      "outputs": [
        {
          "output_type": "stream",
          "text": [
            "0.8227941176470587\n"
          ],
          "name": "stdout"
        },
        {
          "output_type": "execute_result",
          "data": {
            "text/plain": [
              "array([0.94117647, 0.82352941, 0.76470588, 0.64705882, 0.9375    ])"
            ]
          },
          "metadata": {
            "tags": []
          },
          "execution_count": 10
        }
      ]
    },
    {
      "cell_type": "code",
      "metadata": {
        "id": "1Q34_1p-Iodq",
        "outputId": "487be8ae-1c93-4051-a7b9-6b1fd8a95d55",
        "colab": {
          "base_uri": "https://localhost:8080/",
          "height": 153
        }
      },
      "source": [
        "######################################################################################\n",
        "##### Training SVM model\n",
        "######################################################################################\n",
        "\n",
        "rf_model = RandomForestClassifier(random_state=1)\n",
        "rf_model.fit(x_train, y_train.iloc[:,0])"
      ],
      "execution_count": 11,
      "outputs": [
        {
          "output_type": "execute_result",
          "data": {
            "text/plain": [
              "RandomForestClassifier(bootstrap=True, ccp_alpha=0.0, class_weight=None,\n",
              "                       criterion='gini', max_depth=None, max_features='auto',\n",
              "                       max_leaf_nodes=None, max_samples=None,\n",
              "                       min_impurity_decrease=0.0, min_impurity_split=None,\n",
              "                       min_samples_leaf=1, min_samples_split=2,\n",
              "                       min_weight_fraction_leaf=0.0, n_estimators=100,\n",
              "                       n_jobs=None, oob_score=False, random_state=1, verbose=0,\n",
              "                       warm_start=False)"
            ]
          },
          "metadata": {
            "tags": []
          },
          "execution_count": 11
        }
      ]
    },
    {
      "cell_type": "code",
      "metadata": {
        "id": "KCT1XlRKcBAx"
      },
      "source": [
        "######################################################################################\n",
        "##### Prediction performance evaluation for Random Forest model - TRAIN data\n",
        "######################################################################################\n",
        "\n",
        "rf_train_prediction =  rf_model.predict(x_train)\n",
        "rf_train_pred_eval = pd.DataFrame(classification_report(y_train.iloc[:,0], rf_train_prediction, output_dict=True)).transpose()\n",
        "rf_train_pred_eval[\"Model\"] = \"Random Forest\"\n",
        "rf_train_pred_eval[\"Data\"] = \"Train\"\n",
        "rf_train_pred_eval.index.name = \"Details\"\n",
        "rf_train_pred_eval.reset_index(inplace=True)"
      ],
      "execution_count": 12,
      "outputs": []
    },
    {
      "cell_type": "code",
      "metadata": {
        "id": "S38_CBHXceKa"
      },
      "source": [
        "######################################################################################\n",
        "##### Prediction performance evaluation for Random Forest model - TEST data\n",
        "######################################################################################\n",
        "\n",
        "rf_test_prediction =  rf_model.predict(x_test)\n",
        "rf_test_pred_eval = pd.DataFrame(classification_report(y_test.iloc[:,0], rf_test_prediction, output_dict=True)).transpose()\n",
        "rf_test_pred_eval[\"Model\"] = \"Random Forest\"\n",
        "rf_test_pred_eval[\"Data\"] = \"Test\"\n",
        "rf_test_pred_eval.index.name = \"Details\"\n",
        "rf_test_pred_eval.reset_index(inplace=True)"
      ],
      "execution_count": 13,
      "outputs": []
    },
    {
      "cell_type": "markdown",
      "metadata": {
        "id": "hLpFPwOSOAaN"
      },
      "source": [
        "# Deep Learning Models"
      ]
    },
    {
      "cell_type": "markdown",
      "metadata": {
        "id": "YB9wn3yqQbXA"
      },
      "source": [
        "### Convolutional Neural Network"
      ]
    },
    {
      "cell_type": "code",
      "metadata": {
        "id": "LMUUxcBARBt7"
      },
      "source": [
        "######################################################################################\n",
        "##### CNN Model Parameters\n",
        "######################################################################################\n",
        "\n",
        "input_shape = (x_train.shape[1],1)\n",
        "no_of_labels = len(np.unique(y_train))\n",
        "\n",
        "loss = \"binary_crossentropy\"\n",
        "learning_rate = 0.001\n",
        "epochs = 10\n",
        "batch_size = 10\n",
        "validation_split = 0.2"
      ],
      "execution_count": 14,
      "outputs": []
    },
    {
      "cell_type": "code",
      "metadata": {
        "id": "QQZxJzOvUos7"
      },
      "source": [
        "######################################################################################\n",
        "##### Data Preparation for CNN\n",
        "######################################################################################\n",
        "\n",
        "x_train_reshaped_cnn = x_train.values.reshape(x_train.shape[0],x_train.shape[1],1)\n",
        "x_test_reshaped_cnn = x_test.values.reshape(x_test.shape[0],x_test.shape[1],1)\n",
        "\n",
        "y_train_reshaped_cnn = y_train.values\n",
        "y_test_reshaped_cnn = y_test.values"
      ],
      "execution_count": 15,
      "outputs": []
    },
    {
      "cell_type": "code",
      "metadata": {
        "id": "VcLUb7lzOCZj",
        "outputId": "082f38cd-e125-49b6-e879-ab954219274a",
        "colab": {
          "base_uri": "https://localhost:8080/",
          "height": 289
        }
      },
      "source": [
        "######################################################################################\n",
        "##### Initializing MODEL #####\n",
        "######################################################################################\n",
        "\n",
        "cnn_model = keras.models.Sequential()\n",
        "\n",
        "cnn_model.add(keras.layers.Conv1D(64, 12, strides = 1, activation = 'relu', input_shape = input_shape))\n",
        "\n",
        "cnn_model.add(keras.layers.Flatten())\n",
        "\n",
        "cnn_model.add(keras.layers.Dense(912, activation = 'relu'))\n",
        "cnn_model.add(keras.layers.Dense(no_of_labels, activation = 'softmax'))\n",
        "\n",
        "cnn_model.compile(optimizer = keras.optimizers.Adam(learning_rate = learning_rate), loss = loss, metrics = ['BinaryAccuracy'])\n",
        "\n",
        "cnn_model.build()\n",
        "cnn_model.summary()"
      ],
      "execution_count": 16,
      "outputs": [
        {
          "output_type": "stream",
          "text": [
            "Model: \"sequential\"\n",
            "_________________________________________________________________\n",
            "Layer (type)                 Output Shape              Param #   \n",
            "=================================================================\n",
            "conv1d (Conv1D)              (None, 217, 64)           832       \n",
            "_________________________________________________________________\n",
            "flatten (Flatten)            (None, 13888)             0         \n",
            "_________________________________________________________________\n",
            "dense (Dense)                (None, 912)               12666768  \n",
            "_________________________________________________________________\n",
            "dense_1 (Dense)              (None, 2)                 1826      \n",
            "=================================================================\n",
            "Total params: 12,669,426\n",
            "Trainable params: 12,669,426\n",
            "Non-trainable params: 0\n",
            "_________________________________________________________________\n"
          ],
          "name": "stdout"
        }
      ]
    },
    {
      "cell_type": "code",
      "metadata": {
        "id": "BMyIaVgsRu1l",
        "outputId": "b2836720-3b67-40f3-9c7f-3155287abe78",
        "colab": {
          "base_uri": "https://localhost:8080/",
          "height": 238
        }
      },
      "source": [
        "######################################################################################\n",
        "##### Training CNN MODEL #####\n",
        "######################################################################################\n",
        "\n",
        "cnn_model.fit(x_train_reshaped_cnn, y_train_reshaped_cnn, epochs = epochs, validation_split = validation_split, batch_size = batch_size, verbose = 1, callbacks=keras.callbacks.EarlyStopping(monitor='val_loss', patience=3))\n",
        "# cnn_model.fit(x_train_reshaped_cnn, y_train_reshaped_cnn, epochs = epochs, validation_split = validation_split, batch_size = batch_size, verbose = 2)\n"
      ],
      "execution_count": 17,
      "outputs": [
        {
          "output_type": "stream",
          "text": [
            "Epoch 1/10\n",
            "7/7 [==============================] - 1s 115ms/step - loss: 0.6754 - binary_accuracy: 0.6567 - val_loss: 0.3514 - val_binary_accuracy: 0.8235\n",
            "Epoch 2/10\n",
            "7/7 [==============================] - 1s 94ms/step - loss: 0.1465 - binary_accuracy: 0.9552 - val_loss: 0.1511 - val_binary_accuracy: 1.0000\n",
            "Epoch 3/10\n",
            "7/7 [==============================] - 1s 91ms/step - loss: 0.0414 - binary_accuracy: 1.0000 - val_loss: 0.0788 - val_binary_accuracy: 0.9412\n",
            "Epoch 4/10\n",
            "7/7 [==============================] - 1s 95ms/step - loss: 0.0077 - binary_accuracy: 1.0000 - val_loss: 0.2328 - val_binary_accuracy: 0.8824\n",
            "Epoch 5/10\n",
            "7/7 [==============================] - 1s 95ms/step - loss: 0.0049 - binary_accuracy: 1.0000 - val_loss: 0.1648 - val_binary_accuracy: 0.9412\n",
            "Epoch 6/10\n",
            "7/7 [==============================] - 1s 95ms/step - loss: 7.1410e-04 - binary_accuracy: 1.0000 - val_loss: 0.1005 - val_binary_accuracy: 0.9412\n"
          ],
          "name": "stdout"
        },
        {
          "output_type": "execute_result",
          "data": {
            "text/plain": [
              "<tensorflow.python.keras.callbacks.History at 0x7f8f2f262f98>"
            ]
          },
          "metadata": {
            "tags": []
          },
          "execution_count": 17
        }
      ]
    },
    {
      "cell_type": "code",
      "metadata": {
        "id": "lncVmFDTccZ-"
      },
      "source": [
        "######################################################################################\n",
        "##### Generate CNN prediction and performance metrics using TRAIN Data\n",
        "######################################################################################\n",
        "\n",
        "cnn_train_prediction =  cnn_model.predict(x_train_reshaped_cnn)\n",
        "cnn_train_pred_eval = pd.DataFrame(classification_report(pd.DataFrame(y_train_reshaped_cnn).iloc[:,0], pd.DataFrame(np.round(cnn_train_prediction)).iloc[:,0].astype(int), output_dict=True)).transpose()\n",
        "cnn_train_pred_eval[\"Model\"] = \"Convolutional Neural Network\"\n",
        "cnn_train_pred_eval[\"Data\"] = \"Train\"\n",
        "cnn_train_pred_eval.index.name = \"Details\"\n",
        "cnn_train_pred_eval.reset_index(inplace=True)\n"
      ],
      "execution_count": 18,
      "outputs": []
    },
    {
      "cell_type": "code",
      "metadata": {
        "id": "SluvdGl7ZA29"
      },
      "source": [
        "######################################################################################\n",
        "##### Generate CNN prediction and performance metrics using Test Data (UNSEEN Data)\n",
        "######################################################################################\n",
        "\n",
        "cnn_test_prediction =  cnn_model.predict(x_test_reshaped_cnn)\n",
        "cnn_test_pred_eval = pd.DataFrame(classification_report(pd.DataFrame(y_test_reshaped_cnn).iloc[:,0], pd.DataFrame(np.round(cnn_test_prediction)).iloc[:,0].astype(int), output_dict=True)).transpose()\n",
        "cnn_test_pred_eval[\"Model\"] = \"Convolutional Neural Network\"\n",
        "cnn_test_pred_eval[\"Data\"] = \"Test\"\n",
        "cnn_test_pred_eval.index.name = \"Details\"\n",
        "cnn_test_pred_eval.reset_index(inplace=True)\n"
      ],
      "execution_count": 19,
      "outputs": []
    },
    {
      "cell_type": "markdown",
      "metadata": {
        "id": "rT_SnBZudoWC"
      },
      "source": [
        "### Recurrent Neural Network"
      ]
    },
    {
      "cell_type": "code",
      "metadata": {
        "id": "kfhXLSOB8AuE"
      },
      "source": [
        "######################################################################################\n",
        "##### RNN Model Parameters\n",
        "######################################################################################\n",
        "\n",
        "input_shape = (1,x_train.shape[1])\n",
        "no_of_labels = len(np.unique(y_train))\n",
        "\n",
        "loss = \"binary_crossentropy\"\n",
        "learning_rate = 0.001\n",
        "epochs = 10\n",
        "batch_size = 10\n",
        "validation_split = 0.2\n",
        "decode_units = 912"
      ],
      "execution_count": 20,
      "outputs": []
    },
    {
      "cell_type": "code",
      "metadata": {
        "id": "qGsWo1CbBLNN"
      },
      "source": [
        "######################################################################################\n",
        "##### Data Preparation for CNN\n",
        "######################################################################################\n",
        "\n",
        "x_train_reshaped_rnn = x_train.values.reshape(x_train.shape[0],1,x_train.shape[1])\n",
        "x_test_reshaped_rnn = x_test.values.reshape(x_test.shape[0],1,x_test.shape[1])\n",
        "\n",
        "y_train_reshaped_rnn = y_train.iloc[:,0].values\n",
        "y_test_reshaped_rnn = y_test.iloc[:,0].values"
      ],
      "execution_count": 21,
      "outputs": []
    },
    {
      "cell_type": "code",
      "metadata": {
        "id": "zHLvA0GBdqJH",
        "outputId": "32033d18-31c9-47eb-b656-0d25ccf6525a",
        "colab": {
          "base_uri": "https://localhost:8080/",
          "height": 255
        }
      },
      "source": [
        "######################################################################################\n",
        "##### Initializing MODEL #####\n",
        "######################################################################################\n",
        "\n",
        "rnn_model = keras.models.Sequential()\n",
        "\n",
        "rnn_model.add(keras.layers.LSTM(units = decode_units, activation='tanh', return_sequences = True, trainable = True, input_shape = input_shape))\n",
        "# model.add(keras.layers.BatchNormalization(trainable = True))\n",
        "\n",
        "rnn_model.add(keras.layers.LSTM(units = decode_units, activation='tanh', return_sequences = True, trainable = True))\n",
        "# rnn_model.add(keras.layers.BatchNormalization(trainable = True))\n",
        "\n",
        "# model.add(keras.layers.Dense(per_keyword_bit_length, activation='sigmoid'))\n",
        "rnn_model.add(keras.layers.Dense(units = 1, activation='sigmoid'))\n",
        "\n",
        "rnn_model.compile(optimizer = keras.optimizers.Adam(learning_rate = learning_rate), loss = loss)\n",
        "\n",
        "# model.summary()\n",
        "\n",
        "rnn_model.build()\n",
        "rnn_model.summary()"
      ],
      "execution_count": 22,
      "outputs": [
        {
          "output_type": "stream",
          "text": [
            "Model: \"sequential_1\"\n",
            "_________________________________________________________________\n",
            "Layer (type)                 Output Shape              Param #   \n",
            "=================================================================\n",
            "lstm (LSTM)                  (None, 1, 912)            4162368   \n",
            "_________________________________________________________________\n",
            "lstm_1 (LSTM)                (None, 1, 912)            6657600   \n",
            "_________________________________________________________________\n",
            "dense_2 (Dense)              (None, 1, 1)              913       \n",
            "=================================================================\n",
            "Total params: 10,820,881\n",
            "Trainable params: 10,820,881\n",
            "Non-trainable params: 0\n",
            "_________________________________________________________________\n"
          ],
          "name": "stdout"
        }
      ]
    },
    {
      "cell_type": "code",
      "metadata": {
        "id": "9s2iLK-zAKeT",
        "outputId": "e88fa452-3f12-492f-f534-b7bfb68f09c9",
        "colab": {
          "base_uri": "https://localhost:8080/",
          "height": 374
        }
      },
      "source": [
        "######################################################################################\n",
        "##### Training RNN MODEL #####\n",
        "######################################################################################\n",
        "\n",
        "rnn_model.fit(x_train_reshaped_rnn, y_train_reshaped_rnn, epochs = epochs, validation_split = validation_split, batch_size = batch_size, verbose = 1)"
      ],
      "execution_count": 23,
      "outputs": [
        {
          "output_type": "stream",
          "text": [
            "Epoch 1/10\n",
            "7/7 [==============================] - 1s 166ms/step - loss: 0.6629 - val_loss: 0.5557\n",
            "Epoch 2/10\n",
            "7/7 [==============================] - 1s 71ms/step - loss: 0.3600 - val_loss: 0.2442\n",
            "Epoch 3/10\n",
            "7/7 [==============================] - 1s 74ms/step - loss: 0.0554 - val_loss: 0.0843\n",
            "Epoch 4/10\n",
            "7/7 [==============================] - 0s 71ms/step - loss: 0.0017 - val_loss: 0.0587\n",
            "Epoch 5/10\n",
            "7/7 [==============================] - 0s 69ms/step - loss: 6.4196e-05 - val_loss: 0.0550\n",
            "Epoch 6/10\n",
            "7/7 [==============================] - 1s 72ms/step - loss: 1.5511e-05 - val_loss: 0.0563\n",
            "Epoch 7/10\n",
            "7/7 [==============================] - 0s 70ms/step - loss: 4.4322e-06 - val_loss: 0.0581\n",
            "Epoch 8/10\n",
            "7/7 [==============================] - 0s 70ms/step - loss: 2.2944e-06 - val_loss: 0.0594\n",
            "Epoch 9/10\n",
            "7/7 [==============================] - 0s 70ms/step - loss: 1.7383e-06 - val_loss: 0.0599\n",
            "Epoch 10/10\n",
            "7/7 [==============================] - 0s 70ms/step - loss: 1.4127e-06 - val_loss: 0.0602\n"
          ],
          "name": "stdout"
        },
        {
          "output_type": "execute_result",
          "data": {
            "text/plain": [
              "<tensorflow.python.keras.callbacks.History at 0x7f8f2b968860>"
            ]
          },
          "metadata": {
            "tags": []
          },
          "execution_count": 23
        }
      ]
    },
    {
      "cell_type": "code",
      "metadata": {
        "id": "n4SxmLkodJf7"
      },
      "source": [
        "######################################################################################\n",
        "##### Generate RNN prediction and performance metrics using Train Data\n",
        "######################################################################################\n",
        "\n",
        "rnn_train_prediction =  rnn_model.predict(x_train_reshaped_rnn).reshape(x_train_reshaped_rnn.shape[0],1)\n",
        "rnn_train_pred_eval = pd.DataFrame(classification_report(pd.DataFrame(y_train_reshaped_cnn).iloc[:,0], pd.DataFrame(np.round(rnn_train_prediction)).iloc[:,0].astype(int), output_dict=True)).transpose()\n",
        "rnn_train_pred_eval[\"Model\"] = \"Recurrent Neural Network\"\n",
        "rnn_train_pred_eval[\"Data\"] = \"Train\"\n",
        "rnn_train_pred_eval.index.name = \"Details\"\n",
        "rnn_train_pred_eval.reset_index(inplace=True)\n"
      ],
      "execution_count": 24,
      "outputs": []
    },
    {
      "cell_type": "code",
      "metadata": {
        "id": "Qp12rI95Fnz4"
      },
      "source": [
        "######################################################################################\n",
        "##### Generate RNN prediction and performance metrics using Test Data (UNSEEN Data)\n",
        "######################################################################################\n",
        "\n",
        "rnn_test_prediction =  rnn_model.predict(x_test_reshaped_rnn).reshape(x_test_reshaped_rnn.shape[0],1)\n",
        "rnn_test_pred_eval = pd.DataFrame(classification_report(pd.DataFrame(y_test_reshaped_cnn).iloc[:,0], pd.DataFrame(np.round(rnn_test_prediction)).iloc[:,0].astype(int), output_dict=True)).transpose()\n",
        "rnn_test_pred_eval[\"Model\"] = \"Recurrent Neural Network\"\n",
        "rnn_test_pred_eval[\"Data\"] = \"Test\"\n",
        "rnn_test_pred_eval.index.name = \"Details\"\n",
        "rnn_test_pred_eval.reset_index(inplace=True)"
      ],
      "execution_count": 25,
      "outputs": []
    },
    {
      "cell_type": "markdown",
      "metadata": {
        "id": "ZIIZ0rPhZB2I"
      },
      "source": [
        "# Comparison"
      ]
    },
    {
      "cell_type": "markdown",
      "metadata": {
        "id": "zDBpMy5Bdc5b"
      },
      "source": [
        "### Collating all predictions together into 1 Dataframe for easy visualization"
      ]
    },
    {
      "cell_type": "code",
      "metadata": {
        "id": "TvTaWu8CZHW9"
      },
      "source": [
        "prediction_eval_all = pd.concat([svm_train_pred_eval, svm_test_pred_eval,\n",
        "                                rf_train_pred_eval, rf_test_pred_eval,\n",
        "                                cnn_train_pred_eval, cnn_test_pred_eval,\n",
        "                                rnn_train_pred_eval, rnn_test_pred_eval])"
      ],
      "execution_count": 26,
      "outputs": []
    },
    {
      "cell_type": "code",
      "metadata": {
        "id": "OFjBo1E2fpyS",
        "outputId": "683d612b-a027-4ffa-c07a-edf6ad0bf96d",
        "colab": {
          "base_uri": "https://localhost:8080/",
          "height": 314
        }
      },
      "source": [
        "print(\"Accuracy Details:\")\n",
        "prediction_eval_all[prediction_eval_all[\"Details\"] == \"accuracy\"].iloc[:,[5,6,4]]"
      ],
      "execution_count": 27,
      "outputs": [
        {
          "output_type": "stream",
          "text": [
            "Accuracy Details:\n"
          ],
          "name": "stdout"
        },
        {
          "output_type": "execute_result",
          "data": {
            "text/html": [
              "<div>\n",
              "<style scoped>\n",
              "    .dataframe tbody tr th:only-of-type {\n",
              "        vertical-align: middle;\n",
              "    }\n",
              "\n",
              "    .dataframe tbody tr th {\n",
              "        vertical-align: top;\n",
              "    }\n",
              "\n",
              "    .dataframe thead th {\n",
              "        text-align: right;\n",
              "    }\n",
              "</style>\n",
              "<table border=\"1\" class=\"dataframe\">\n",
              "  <thead>\n",
              "    <tr style=\"text-align: right;\">\n",
              "      <th></th>\n",
              "      <th>Model</th>\n",
              "      <th>Data</th>\n",
              "      <th>support</th>\n",
              "    </tr>\n",
              "  </thead>\n",
              "  <tbody>\n",
              "    <tr>\n",
              "      <th>2</th>\n",
              "      <td>Linear Support Vector Machine</td>\n",
              "      <td>Train</td>\n",
              "      <td>1.000000</td>\n",
              "    </tr>\n",
              "    <tr>\n",
              "      <th>2</th>\n",
              "      <td>Linear Support Vector Machine</td>\n",
              "      <td>Test</td>\n",
              "      <td>0.952381</td>\n",
              "    </tr>\n",
              "    <tr>\n",
              "      <th>2</th>\n",
              "      <td>Random Forest</td>\n",
              "      <td>Train</td>\n",
              "      <td>1.000000</td>\n",
              "    </tr>\n",
              "    <tr>\n",
              "      <th>2</th>\n",
              "      <td>Random Forest</td>\n",
              "      <td>Test</td>\n",
              "      <td>0.857143</td>\n",
              "    </tr>\n",
              "    <tr>\n",
              "      <th>2</th>\n",
              "      <td>Convolutional Neural Network</td>\n",
              "      <td>Train</td>\n",
              "      <td>0.988095</td>\n",
              "    </tr>\n",
              "    <tr>\n",
              "      <th>2</th>\n",
              "      <td>Convolutional Neural Network</td>\n",
              "      <td>Test</td>\n",
              "      <td>0.904762</td>\n",
              "    </tr>\n",
              "    <tr>\n",
              "      <th>2</th>\n",
              "      <td>Recurrent Neural Network</td>\n",
              "      <td>Train</td>\n",
              "      <td>0.988095</td>\n",
              "    </tr>\n",
              "    <tr>\n",
              "      <th>2</th>\n",
              "      <td>Recurrent Neural Network</td>\n",
              "      <td>Test</td>\n",
              "      <td>0.904762</td>\n",
              "    </tr>\n",
              "  </tbody>\n",
              "</table>\n",
              "</div>"
            ],
            "text/plain": [
              "                           Model   Data   support\n",
              "2  Linear Support Vector Machine  Train  1.000000\n",
              "2  Linear Support Vector Machine   Test  0.952381\n",
              "2                  Random Forest  Train  1.000000\n",
              "2                  Random Forest   Test  0.857143\n",
              "2   Convolutional Neural Network  Train  0.988095\n",
              "2   Convolutional Neural Network   Test  0.904762\n",
              "2       Recurrent Neural Network  Train  0.988095\n",
              "2       Recurrent Neural Network   Test  0.904762"
            ]
          },
          "metadata": {
            "tags": []
          },
          "execution_count": 27
        }
      ]
    },
    {
      "cell_type": "code",
      "metadata": {
        "id": "-sLeH1fre43b",
        "outputId": "8590fbdb-ca18-4d55-eca0-17a39585e0c8",
        "colab": {
          "base_uri": "https://localhost:8080/",
          "height": 562
        }
      },
      "source": [
        "print(\"Classwise Details:\")\n",
        "prediction_eval_all[(prediction_eval_all[\"Details\"] == \"0\") | (prediction_eval_all[\"Details\"] == \"1\")].iloc[:,[5,6,0,1,2,3]]\n",
        "## Here, details column means class"
      ],
      "execution_count": 28,
      "outputs": [
        {
          "output_type": "stream",
          "text": [
            "Classwise Details:\n"
          ],
          "name": "stdout"
        },
        {
          "output_type": "execute_result",
          "data": {
            "text/html": [
              "<div>\n",
              "<style scoped>\n",
              "    .dataframe tbody tr th:only-of-type {\n",
              "        vertical-align: middle;\n",
              "    }\n",
              "\n",
              "    .dataframe tbody tr th {\n",
              "        vertical-align: top;\n",
              "    }\n",
              "\n",
              "    .dataframe thead th {\n",
              "        text-align: right;\n",
              "    }\n",
              "</style>\n",
              "<table border=\"1\" class=\"dataframe\">\n",
              "  <thead>\n",
              "    <tr style=\"text-align: right;\">\n",
              "      <th></th>\n",
              "      <th>Model</th>\n",
              "      <th>Data</th>\n",
              "      <th>Details</th>\n",
              "      <th>precision</th>\n",
              "      <th>recall</th>\n",
              "      <th>f1-score</th>\n",
              "    </tr>\n",
              "  </thead>\n",
              "  <tbody>\n",
              "    <tr>\n",
              "      <th>0</th>\n",
              "      <td>Linear Support Vector Machine</td>\n",
              "      <td>Train</td>\n",
              "      <td>0</td>\n",
              "      <td>1.000000</td>\n",
              "      <td>1.000000</td>\n",
              "      <td>1.000000</td>\n",
              "    </tr>\n",
              "    <tr>\n",
              "      <th>1</th>\n",
              "      <td>Linear Support Vector Machine</td>\n",
              "      <td>Train</td>\n",
              "      <td>1</td>\n",
              "      <td>1.000000</td>\n",
              "      <td>1.000000</td>\n",
              "      <td>1.000000</td>\n",
              "    </tr>\n",
              "    <tr>\n",
              "      <th>0</th>\n",
              "      <td>Linear Support Vector Machine</td>\n",
              "      <td>Test</td>\n",
              "      <td>0</td>\n",
              "      <td>0.923077</td>\n",
              "      <td>1.000000</td>\n",
              "      <td>0.960000</td>\n",
              "    </tr>\n",
              "    <tr>\n",
              "      <th>1</th>\n",
              "      <td>Linear Support Vector Machine</td>\n",
              "      <td>Test</td>\n",
              "      <td>1</td>\n",
              "      <td>1.000000</td>\n",
              "      <td>0.888889</td>\n",
              "      <td>0.941176</td>\n",
              "    </tr>\n",
              "    <tr>\n",
              "      <th>0</th>\n",
              "      <td>Random Forest</td>\n",
              "      <td>Train</td>\n",
              "      <td>0</td>\n",
              "      <td>1.000000</td>\n",
              "      <td>1.000000</td>\n",
              "      <td>1.000000</td>\n",
              "    </tr>\n",
              "    <tr>\n",
              "      <th>1</th>\n",
              "      <td>Random Forest</td>\n",
              "      <td>Train</td>\n",
              "      <td>1</td>\n",
              "      <td>1.000000</td>\n",
              "      <td>1.000000</td>\n",
              "      <td>1.000000</td>\n",
              "    </tr>\n",
              "    <tr>\n",
              "      <th>0</th>\n",
              "      <td>Random Forest</td>\n",
              "      <td>Test</td>\n",
              "      <td>0</td>\n",
              "      <td>0.909091</td>\n",
              "      <td>0.833333</td>\n",
              "      <td>0.869565</td>\n",
              "    </tr>\n",
              "    <tr>\n",
              "      <th>1</th>\n",
              "      <td>Random Forest</td>\n",
              "      <td>Test</td>\n",
              "      <td>1</td>\n",
              "      <td>0.800000</td>\n",
              "      <td>0.888889</td>\n",
              "      <td>0.842105</td>\n",
              "    </tr>\n",
              "    <tr>\n",
              "      <th>0</th>\n",
              "      <td>Convolutional Neural Network</td>\n",
              "      <td>Train</td>\n",
              "      <td>0</td>\n",
              "      <td>0.976190</td>\n",
              "      <td>1.000000</td>\n",
              "      <td>0.987952</td>\n",
              "    </tr>\n",
              "    <tr>\n",
              "      <th>1</th>\n",
              "      <td>Convolutional Neural Network</td>\n",
              "      <td>Train</td>\n",
              "      <td>1</td>\n",
              "      <td>1.000000</td>\n",
              "      <td>0.976744</td>\n",
              "      <td>0.988235</td>\n",
              "    </tr>\n",
              "    <tr>\n",
              "      <th>0</th>\n",
              "      <td>Convolutional Neural Network</td>\n",
              "      <td>Test</td>\n",
              "      <td>0</td>\n",
              "      <td>0.857143</td>\n",
              "      <td>1.000000</td>\n",
              "      <td>0.923077</td>\n",
              "    </tr>\n",
              "    <tr>\n",
              "      <th>1</th>\n",
              "      <td>Convolutional Neural Network</td>\n",
              "      <td>Test</td>\n",
              "      <td>1</td>\n",
              "      <td>1.000000</td>\n",
              "      <td>0.777778</td>\n",
              "      <td>0.875000</td>\n",
              "    </tr>\n",
              "    <tr>\n",
              "      <th>0</th>\n",
              "      <td>Recurrent Neural Network</td>\n",
              "      <td>Train</td>\n",
              "      <td>0</td>\n",
              "      <td>1.000000</td>\n",
              "      <td>0.975610</td>\n",
              "      <td>0.987654</td>\n",
              "    </tr>\n",
              "    <tr>\n",
              "      <th>1</th>\n",
              "      <td>Recurrent Neural Network</td>\n",
              "      <td>Train</td>\n",
              "      <td>1</td>\n",
              "      <td>0.977273</td>\n",
              "      <td>1.000000</td>\n",
              "      <td>0.988506</td>\n",
              "    </tr>\n",
              "    <tr>\n",
              "      <th>0</th>\n",
              "      <td>Recurrent Neural Network</td>\n",
              "      <td>Test</td>\n",
              "      <td>0</td>\n",
              "      <td>0.916667</td>\n",
              "      <td>0.916667</td>\n",
              "      <td>0.916667</td>\n",
              "    </tr>\n",
              "    <tr>\n",
              "      <th>1</th>\n",
              "      <td>Recurrent Neural Network</td>\n",
              "      <td>Test</td>\n",
              "      <td>1</td>\n",
              "      <td>0.888889</td>\n",
              "      <td>0.888889</td>\n",
              "      <td>0.888889</td>\n",
              "    </tr>\n",
              "  </tbody>\n",
              "</table>\n",
              "</div>"
            ],
            "text/plain": [
              "                           Model   Data Details  precision    recall  f1-score\n",
              "0  Linear Support Vector Machine  Train       0   1.000000  1.000000  1.000000\n",
              "1  Linear Support Vector Machine  Train       1   1.000000  1.000000  1.000000\n",
              "0  Linear Support Vector Machine   Test       0   0.923077  1.000000  0.960000\n",
              "1  Linear Support Vector Machine   Test       1   1.000000  0.888889  0.941176\n",
              "0                  Random Forest  Train       0   1.000000  1.000000  1.000000\n",
              "1                  Random Forest  Train       1   1.000000  1.000000  1.000000\n",
              "0                  Random Forest   Test       0   0.909091  0.833333  0.869565\n",
              "1                  Random Forest   Test       1   0.800000  0.888889  0.842105\n",
              "0   Convolutional Neural Network  Train       0   0.976190  1.000000  0.987952\n",
              "1   Convolutional Neural Network  Train       1   1.000000  0.976744  0.988235\n",
              "0   Convolutional Neural Network   Test       0   0.857143  1.000000  0.923077\n",
              "1   Convolutional Neural Network   Test       1   1.000000  0.777778  0.875000\n",
              "0       Recurrent Neural Network  Train       0   1.000000  0.975610  0.987654\n",
              "1       Recurrent Neural Network  Train       1   0.977273  1.000000  0.988506\n",
              "0       Recurrent Neural Network   Test       0   0.916667  0.916667  0.916667\n",
              "1       Recurrent Neural Network   Test       1   0.888889  0.888889  0.888889"
            ]
          },
          "metadata": {
            "tags": []
          },
          "execution_count": 28
        }
      ]
    },
    {
      "cell_type": "code",
      "metadata": {
        "id": "BWJ6ntJYgvNK"
      },
      "source": [
        ""
      ],
      "execution_count": 28,
      "outputs": []
    }
  ]
}